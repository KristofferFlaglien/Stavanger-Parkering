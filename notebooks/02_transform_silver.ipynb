{
 "cells": [
  {
   "cell_type": "code",
   "execution_count": 0,
   "metadata": {
    "application/vnd.databricks.v1+cell": {
     "cellMetadata": {},
     "inputWidgets": {},
     "nuid": "d2052b37-be27-4e84-a680-c24a33eb294d",
     "showTitle": false,
     "tableResultSettingsMap": {},
     "title": ""
    }
   },
   "outputs": [],
   "source": [
    "# 02_transform_silver.py\n",
    "\n",
    "from pyspark.sql.functions import when, col, trim, lower\n",
    "from pyspark.sql.types import IntegerType\n",
    "from tests.etl_pipeline import sjekk_duplikater, valider_manglende, valider_gyldige_verdier, konverter_timestamp\n",
    "\n",
    "# Reload from bronze (independent of Notebook 01’s runtime)\n",
    "df_raw = spark.table(\"default.staging_parking\")\n",
    "\n",
    "df_raw = df_raw.withColumn(\n",
    "    \"Antall_ledige_plasser\",\n",
    "    when(lower(trim(col(\"Antall_ledige_plasser\"))) == \"fullt\", 0)\n",
    "    .otherwise(col(\"Antall_ledige_plasser\"))\n",
    "    .cast(IntegerType())\n",
    ")\n",
    "\n",
    "valider_manglende(df_raw)\n",
    "valider_gyldige_verdier(df_raw)\n",
    "df_deduped = sjekk_duplikater(df_raw)\n",
    "df_cleaned = konverter_timestamp(df_deduped)\n",
    "\n",
    "silver_path = \"/mnt/silver/parking_cleaned\"\n",
    "\n",
    "(\n",
    "    df_cleaned.write\n",
    "    .format(\"delta\")\n",
    "    .mode(\"append\")\n",
    "    .option(\"mergeSchema\", \"true\")\n",
    "    .save(silver_path)\n",
    ")\n",
    "\n",
    "spark.sql(f\"\"\"\n",
    "CREATE TABLE IF NOT EXISTS default.parking_cleaned\n",
    "USING DELTA\n",
    "LOCATION '{silver_path}'\n",
    "\"\"\")\n"
   ]
  }
 ],
 "metadata": {
  "application/vnd.databricks.v1+notebook": {
   "computePreferences": null,
   "dashboards": [],
   "environmentMetadata": {
    "base_environment": "",
    "environment_version": "2"
   },
   "inputWidgetPreferences": null,
   "language": "python",
   "notebookMetadata": {
    "pythonIndentUnit": 4
   },
   "notebookName": "02_transform_silver",
   "widgets": {}
  },
  "language_info": {
   "name": "python"
  }
 },
 "nbformat": 4,
 "nbformat_minor": 0
}
