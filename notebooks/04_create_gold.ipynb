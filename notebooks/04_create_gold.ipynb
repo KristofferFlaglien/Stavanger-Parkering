{
 "cells": [
  {
   "cell_type": "code",
   "execution_count": 0,
   "metadata": {
    "application/vnd.databricks.v1+cell": {
     "cellMetadata": {},
     "inputWidgets": {},
     "nuid": "dd8cee04-1b2c-4fd7-909c-2f6cd94b543c",
     "showTitle": false,
     "tableResultSettingsMap": {},
     "title": ""
    }
   },
   "outputs": [],
   "source": [
    "%sql\n",
    "VACUUM default.parking_cleaned RETAIN 168 hours;\n",
    "\n",
    "OPTIMIZE default.parking_cleaned;"
   ]
  },
  {
   "cell_type": "code",
   "execution_count": 0,
   "metadata": {
    "application/vnd.databricks.v1+cell": {
     "cellMetadata": {},
     "inputWidgets": {},
     "nuid": "00f68cd4-1961-4017-bac2-42e5f6fa1662",
     "showTitle": false,
     "tableResultSettingsMap": {},
     "title": ""
    }
   },
   "outputs": [],
   "source": [
    "from pyspark.sql.functions import to_date, hour, minute, date_format, to_timestamp, when, lit\n",
    "from pyspark.sql.functions import col, max as max_\n",
    "from pyspark.sql.types import IntegerType\n",
    "\n",
    "\n",
    "# Hent 9 observasjoner per kjøring (én per lokasjon)\n",
    "\n",
    "# Les inn parking_cleaned (silver) på nytt, slik at koden er uavhengig av df_cleaned i minne\n",
    "df_cleaned = spark.table(\"default.parking_cleaned\")\n",
    "\n",
    "new_fakt = df_cleaned.select(\n",
    "    to_date(\"timestamp\").alias(\"dato\"),\n",
    "    date_format(to_timestamp(\"timestamp\"), \"HH:mm\").alias(\"klokkeslett\"),\n",
    "    col(\"Sted\"),\n",
    "    col(\"Antall_ledige_plasser\").cast(IntegerType()).alias(\"Antall_ledige_plasser\"),\n",
    "    col(\"timestamp\")\n",
    ")\n",
    "\n",
    "\n",
    "gold_path = \"/mnt/gold/fakt_parkering\"\n",
    "\n",
    "(\n",
    "    new_fakt\n",
    "    .write\n",
    "    .format(\"delta\")\n",
    "    .mode(\"append\")  # append for incremental loads\n",
    "    .option(\"mergeSchema\", \"true\")\n",
    "    .save(gold_path)\n",
    ")\n",
    "\n",
    "\n",
    "# Register as Gold table in Hive Metastore\n",
    "spark.sql(f\"\"\"\n",
    "CREATE TABLE IF NOT EXISTS default.fakt_parkering\n",
    "USING DELTA\n",
    "LOCATION '{gold_path}'\n",
    "\"\"\")\n",
    "\n",
    "\n",
    "\n",
    "new_fakt.write.format(\"delta\").mode(\"overwrite\").saveAsTable(\"default.fakt_parkering_siste9\")\n"
   ]
  }
 ],
 "metadata": {
  "application/vnd.databricks.v1+notebook": {
   "computePreferences": null,
   "dashboards": [],
   "environmentMetadata": {
    "base_environment": "",
    "environment_version": "2"
   },
   "inputWidgetPreferences": null,
   "language": "python",
   "notebookMetadata": {
    "pythonIndentUnit": 4
   },
   "notebookName": "04_create_gold",
   "widgets": {}
  },
  "language_info": {
   "name": "python"
  }
 },
 "nbformat": 4,
 "nbformat_minor": 0
}
